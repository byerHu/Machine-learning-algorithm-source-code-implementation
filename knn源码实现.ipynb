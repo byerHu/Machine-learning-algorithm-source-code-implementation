{
  "nbformat": 4,
  "nbformat_minor": 0,
  "metadata": {
    "colab": {
      "name": "knn源码实现.ipynb",
      "version": "0.3.2",
      "provenance": [],
      "collapsed_sections": [],
      "include_colab_link": true
    },
    "kernelspec": {
      "name": "python3",
      "display_name": "Python 3"
    }
  },
  "cells": [
    {
      "cell_type": "markdown",
      "metadata": {
        "id": "view-in-github",
        "colab_type": "text"
      },
      "source": [
        "<a href=\"https://colab.research.google.com/github/byerHu/Machine-learning-algorithm-source-code-implementation/blob/master/knn%E6%BA%90%E7%A0%81%E5%AE%9E%E7%8E%B0.ipynb\" target=\"_parent\"><img src=\"https://colab.research.google.com/assets/colab-badge.svg\" alt=\"Open In Colab\"/></a>"
      ]
    },
    {
      "metadata": {
        "id": "dQG0BmDg2Vju",
        "colab_type": "text"
      },
      "cell_type": "markdown",
      "source": [
        "# python实现knn算法"
      ]
    },
    {
      "metadata": {
        "id": "RFpXMmIn3J5G",
        "colab_type": "text"
      },
      "cell_type": "markdown",
      "source": [
        "KNN算法是机器学习最为简单的算法之一，具体的思想这里不做讲解了，可以自行上网查阅。本文主要是用python来模仿sklearn实现knn算法。"
      ]
    },
    {
      "metadata": {
        "id": "bxW4FVuU3hq0",
        "colab_type": "text"
      },
      "cell_type": "markdown",
      "source": [
        "## 导入所需的库"
      ]
    },
    {
      "metadata": {
        "id": "Oy4NFIfsSn4L",
        "colab_type": "code",
        "colab": {}
      },
      "cell_type": "code",
      "source": [
        "import numpy as np\n",
        "from math import sqrt\n",
        "from collections import Counter"
      ],
      "execution_count": 0,
      "outputs": []
    },
    {
      "metadata": {
        "id": "nSfV_Dx23ovz",
        "colab_type": "text"
      },
      "cell_type": "markdown",
      "source": [
        "## knn的核心代码"
      ]
    },
    {
      "metadata": {
        "id": "dhI5kkEUTWe0",
        "colab_type": "code",
        "colab": {}
      },
      "cell_type": "code",
      "source": [
        "def KNN_classify(k,X_train,y_train,x):\n",
        "  \"\"\"\n",
        "    k:表示knn的中k的值\n",
        "    X_train: 训练集的features\n",
        "    y_train: 训练集的labels\n",
        "    x: 新的数据\n",
        "  \"\"\"\n",
        "  assert 1<=k<=X_train.shape[0],\"k must be valid\"\n",
        "  assert X_train.shape[0] == y_train.shape[0], \"the size of X_train must equal to the size of y_train\"\n",
        "  assert X_train.shape[1] == x.shape[0], \"the feature number of x must to be equal to X_train\"\n",
        "  \n",
        "  distances = [sqrt(np.sum((x_train-x)**2)) for x_train in X_train] # 计算新来的数据x与整个训练数据中每个样本数据的距离\n",
        "  nearest = np.argsort(distances) # 对距离排序并返回对应的索引\n",
        "  \n",
        "  topK_y = [y_train[i] for i in nearest] # 返回最近的k个距离对应的分类\n",
        "  votes = Counter(topK_y) # 统计属于每个分类的样本数\n",
        "  \n",
        "  return votes.most_common(1)[0][0] # 返回属于样本数最多的分类结果"
      ],
      "execution_count": 0,
      "outputs": []
    },
    {
      "metadata": {
        "id": "VJyitoAa4NWA",
        "colab_type": "text"
      },
      "cell_type": "markdown",
      "source": [
        "## 虚拟数据进行验证"
      ]
    },
    {
      "metadata": {
        "id": "gHGjIzBlfTzO",
        "colab_type": "code",
        "outputId": "c5350164-5659-48df-b472-8d522edb95ed",
        "colab": {
          "base_uri": "https://localhost:8080/",
          "height": 347
        }
      },
      "cell_type": "code",
      "source": [
        "x = [[0,0],\n",
        "     [1,1],\n",
        "     [2,2],\n",
        "     [10,10],\n",
        "     [11,11],\n",
        "     [12,12]]\n",
        "y = [0,0,0,1,1,1]\n",
        "\n",
        "X_train = np.array(x)\n",
        "y_train = np.array(y)\n",
        "import matplotlib.pyplot as plt\n",
        "\n",
        "plt.scatter(X_train[:3,0],X_train[:3,1],color='red')\n",
        "plt.scatter(X_train[3:,0],X_train[3:,1],color = 'blue')\n",
        "plt.show()"
      ],
      "execution_count": 40,
      "outputs": [
        {
          "output_type": "display_data",
          "data": {
            "image/png": "[encoded data removed]",
            "text/plain": [
              "<Figure size 576x396 with 1 Axes>"
            ]
          },
          "metadata": {
            "tags": []
          }
        }
      ]
    },
    {
      "metadata": {
        "id": "y4j2BjHr4cJK",
        "colab_type": "code",
        "colab": {
          "base_uri": "https://localhost:8080/",
          "height": 35
        },
        "outputId": "affbc0cd-47f5-4054-a0f7-9f102c303074"
      },
      "cell_type": "code",
      "source": [
        "x = np.array([13,13])\n",
        "KNN_classify(2,X_train,y_train,x)"
      ],
      "execution_count": 41,
      "outputs": [
        {
          "output_type": "execute_result",
          "data": {
            "text/plain": [
              "1"
            ]
          },
          "metadata": {
            "tags": []
          },
          "execution_count": 41
        }
      ]
    },
    {
      "metadata": {
        "id": "ECp59BgxkH3r",
        "colab_type": "text"
      },
      "cell_type": "markdown",
      "source": [
        "## sklearn实现knn分类"
      ]
    },
    {
      "metadata": {
        "id": "RwMGQ0TZkKy5",
        "colab_type": "code",
        "colab": {}
      },
      "cell_type": "code",
      "source": [
        "from sklearn.neighbors import KNeighborsClassifier"
      ],
      "execution_count": 0,
      "outputs": []
    },
    {
      "metadata": {
        "id": "efuX8wY_kZ44",
        "colab_type": "code",
        "colab": {
          "base_uri": "https://localhost:8080/",
          "height": 69
        },
        "outputId": "b99191bc-d373-4537-a2bb-1180431d5390"
      },
      "cell_type": "code",
      "source": [
        "kNN_classifier = KNeighborsClassifier()\n",
        "kNN_classifier.fit(X_train,y_train)"
      ],
      "execution_count": 11,
      "outputs": [
        {
          "output_type": "execute_result",
          "data": {
            "text/plain": [
              "KNeighborsClassifier(algorithm='auto', leaf_size=30, metric='minkowski',\n",
              "           metric_params=None, n_jobs=None, n_neighbors=5, p=2,\n",
              "           weights='uniform')"
            ]
          },
          "metadata": {
            "tags": []
          },
          "execution_count": 11
        }
      ]
    },
    {
      "metadata": {
        "id": "fgX_yyLNksLQ",
        "colab_type": "code",
        "colab": {
          "base_uri": "https://localhost:8080/",
          "height": 35
        },
        "outputId": "ba448b15-ed02-4d9b-f781-e3721a8f524d"
      },
      "cell_type": "code",
      "source": [
        "X_predict = x.reshape(1,-1)\n",
        "kNN_classifier.predict(X_predict)"
      ],
      "execution_count": 12,
      "outputs": [
        {
          "output_type": "execute_result",
          "data": {
            "text/plain": [
              "array([1])"
            ]
          },
          "metadata": {
            "tags": []
          },
          "execution_count": 12
        }
      ]
    },
    {
      "metadata": {
        "id": "kVD6f2QBlGTX",
        "colab_type": "text"
      },
      "cell_type": "markdown",
      "source": [
        "## 模仿sklearn重新封装knn"
      ]
    },
    {
      "metadata": {
        "id": "KEvQy_pplLQm",
        "colab_type": "code",
        "colab": {}
      },
      "cell_type": "code",
      "source": [
        "import numpy as np\n",
        "from math import sqrt\n",
        "from collections import Counter\n",
        "\n",
        "\n",
        "class KNNClassifier:\n",
        "  \n",
        "  def __init__(self,k):\n",
        "    \"\"\"初始化knn分类器\"\"\"\n",
        "    assert k >= 1, \"k must be valid\"\n",
        "    self.k = k # knn中的k\n",
        "    self._X_train = None # 训练数据集在类中，用户不能随意操作，故设置为私有\n",
        "    self._y_train = None\n",
        "   \n",
        "  def fit(self,X_train,y_train):\n",
        "    \"\"\"根据训练数据集X_train和y_train训练kNN分类器\"\"\"\n",
        "    assert X_train.shape[0] == y_train.shape[0], \"the size of X_train must equal to the size of y_train\"\n",
        "    assert self.k <= X_train.shape[0], \"the size of X_train must be at least k.\"\n",
        "    self._X_train = X_train\n",
        "    self._y_train = y_train\n",
        "    return self # 模仿sklearn，调用fit函数会返回自身\n",
        "  \n",
        "  def predict(self,X_predict):\n",
        "    \"\"\"给定待预测数据集X_predict,跟sklearn一样，要求用户传来的是数组格式的数据，返回表示X_predict的结果向量\"\"\"\n",
        "    assert self._X_train is not None and self._y_train is not None, \"must fit before predict!\"\n",
        "    assert X_predict.shape[1] == self._X_train.shape[1], \"the feature number of X_predict must be equal to X_train\"\n",
        "    \n",
        "    y_predict = [self._predict(x) for x in X_predict] # 预测X_predict矩阵每一行所属的类别\n",
        "    return np.array(y_predict) # 返回的结果也遵循sklearn\n",
        "  \n",
        "  def _predict(self,x):\n",
        "    \"\"\"给定单个待预测的数据x,返回x_predict的预测结果值\"\"\"\n",
        "    \n",
        "    # 先判断x是合法的\n",
        "    assert x.shape[0] == self._X_train.shape[1],\"the feature number of x must be equal to X_train\"\n",
        "    distances = [sqrt(np.sum((x_train - x)**2)) for x_train in self._X_train] # 计算新来的数据与整个训练数据的距离\n",
        "    \n",
        "    nearest = np.argsort(distances) # 对距离排序并返回对应的索引\n",
        "    \n",
        "    topK_y = [self._y_train[i] for i in nearest[:self.k]] # 返回最近的k个距离对应的分类\n",
        "    votes = Counter(topK_y)\n",
        "    \n",
        "    return votes.most_common(1)[0][0]\n",
        "  \n",
        "  def __repr__(self):\n",
        "    return \"KNN(k=%d)\" % self.k"
      ],
      "execution_count": 0,
      "outputs": []
    },
    {
      "metadata": {
        "id": "bbgQd-69tgXA",
        "colab_type": "code",
        "colab": {
          "base_uri": "https://localhost:8080/",
          "height": 347
        },
        "outputId": "cd3a1bb1-1560-489a-f102-c282da5fe981"
      },
      "cell_type": "code",
      "source": [
        "X_train = np.array([[0,0],\n",
        "              [1,1],\n",
        "              [2,2],\n",
        "              [10,10],\n",
        "              [11,11],\n",
        "              [12,12]])\n",
        "y_train = np.array([0,0,0,1,1,1])\n",
        "\n",
        "import matplotlib.pyplot as plt\n",
        "\n",
        "plt.scatter(X_train[:3,0],X_train[:3,1],color='red')\n",
        "plt.scatter(X_train[3:,0],X_train[3:,1],color = 'blue')\n",
        "plt.show()"
      ],
      "execution_count": 35,
      "outputs": [
        {
          "output_type": "display_data",
          "data": {
            "image/png": "[encoded data removed]",
            "text/plain": [
              "<Figure size 576x396 with 1 Axes>"
            ]
          },
          "metadata": {
            "tags": []
          }
        }
      ]
    },
    {
      "metadata": {
        "id": "WCcbDbvNt6sf",
        "colab_type": "code",
        "colab": {
          "base_uri": "https://localhost:8080/",
          "height": 35
        },
        "outputId": "d63a8e99-2dc1-40f7-f7a0-32c19f0c6936"
      },
      "cell_type": "code",
      "source": [
        "x = np.array([[13,13],[-1,-1]])\n",
        "knn_clf = KNNClassifier(k=2)\n",
        "\n",
        "knn_clf.fit(X_train,y_train)"
      ],
      "execution_count": 37,
      "outputs": [
        {
          "output_type": "execute_result",
          "data": {
            "text/plain": [
              "KNN(k=2)"
            ]
          },
          "metadata": {
            "tags": []
          },
          "execution_count": 37
        }
      ]
    },
    {
      "metadata": {
        "id": "j5ZQYNY7w2so",
        "colab_type": "code",
        "colab": {
          "base_uri": "https://localhost:8080/",
          "height": 35
        },
        "outputId": "a0bd3552-4787-4da4-bda4-08f4cc0975b9"
      },
      "cell_type": "code",
      "source": [
        "knn_clf.predict(x)"
      ],
      "execution_count": 38,
      "outputs": [
        {
          "output_type": "execute_result",
          "data": {
            "text/plain": [
              "array([1, 0])"
            ]
          },
          "metadata": {
            "tags": []
          },
          "execution_count": 38
        }
      ]
    }
  ]
}