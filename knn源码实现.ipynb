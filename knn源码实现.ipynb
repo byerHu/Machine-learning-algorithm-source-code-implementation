{
  "nbformat": 4,
  "nbformat_minor": 0,
  "metadata": {
    "colab": {
      "name": "knn源码实现.ipynb",
      "version": "0.3.2",
      "provenance": [],
      "include_colab_link": true
    },
    "kernelspec": {
      "name": "python3",
      "display_name": "Python 3"
    }
  },
  "cells": [
    {
      "cell_type": "markdown",
      "metadata": {
        "id": "view-in-github",
        "colab_type": "text"
      },
      "source": [
        "<a href=\"https://colab.research.google.com/github/byerHu/Machine-learning-algorithm-source-code-implementation/blob/master/knn%E6%BA%90%E7%A0%81%E5%AE%9E%E7%8E%B0.ipynb\" target=\"_parent\"><img src=\"https://colab.research.google.com/assets/colab-badge.svg\" alt=\"Open In Colab\"/></a>"
      ]
    },
    {
      "metadata": {
        "id": "Oy4NFIfsSn4L",
        "colab_type": "code",
        "colab": {}
      },
      "cell_type": "code",
      "source": [
        "import numpy as np\n",
        "from math import sqrt\n",
        "from collections import Counter"
      ],
      "execution_count": 0,
      "outputs": []
    },
    {
      "metadata": {
        "id": "dhI5kkEUTWe0",
        "colab_type": "code",
        "colab": {}
      },
      "cell_type": "code",
      "source": [
        "def KNN_classify(k,X_train,y_train,x):\n",
        "  \"\"\"\n",
        "    k:表示knn的中k的值\n",
        "    X_train: 训练集的features\n",
        "    y_train: 训练集的labels\n",
        "    x: 新的数据\n",
        "  \"\"\"\n",
        "  assert 1<=k<=X_train.shape[0],\"k must be valid\"\n",
        "  assert X_train.shape[0] == y_train.shape[0], \"the size of X_train must equal to the size of y_train\"\n",
        "  assert X_train.shape[1] == x.shape[0], \"the feature number of x must to be equal to X_train\"\n",
        "  \n",
        "  distances = [sqrt(np.sum((x_train-x)**2)) for x_train in X_train]\n",
        "  nearest = np.argsort(distances)\n",
        "  \n",
        "  topK_y = [y_train[i] for i in nearest]\n",
        "  votes = Counter(topK_y)\n",
        "  \n",
        "  return votes.most_common(1)[0][0]"
      ],
      "execution_count": 0,
      "outputs": []
    },
    {
      "metadata": {
        "id": "gHGjIzBlfTzO",
        "colab_type": "code",
        "outputId": "9b149286-c109-4f13-8a77-85bddfdc5520",
        "colab": {
          "base_uri": "https://localhost:8080/",
          "height": 52
        }
      },
      "cell_type": "code",
      "source": [
        "x = [[0,0],\n",
        "     [1,1],\n",
        "     [2,2],\n",
        "     [10,10],\n",
        "     [11,11],\n",
        "     [12,12]]\n",
        "y = [0,0,0,1,1,1]\n",
        "\n",
        "X_train = np.array(x)\n",
        "y_train = np.array(y)\n",
        "print(X_train.shape)\n",
        "x = np.array([13,13])\n",
        "KNN_classify(2,X_train,y_train,x)"
      ],
      "execution_count": 0,
      "outputs": [
        {
          "output_type": "stream",
          "text": [
            "(6, 2)\n"
          ],
          "name": "stdout"
        },
        {
          "output_type": "execute_result",
          "data": {
            "text/plain": [
              "1"
            ]
          },
          "metadata": {
            "tags": []
          },
          "execution_count": 6
        }
      ]
    }
  ]
}